{
 "cells": [
  {
   "cell_type": "code",
   "execution_count": 1,
   "metadata": {},
   "outputs": [
    {
     "name": "stderr",
     "output_type": "stream",
     "text": [
      "C:\\Users\\geary\\AppData\\Local\\Packages\\PythonSoftwareFoundation.Python.3.10_qbz5n2kfra8p0\\LocalCache\\local-packages\\Python310\\site-packages\\tqdm\\auto.py:22: TqdmWarning: IProgress not found. Please update jupyter and ipywidgets. See https://ipywidgets.readthedocs.io/en/stable/user_install.html\n",
      "  from .autonotebook import tqdm as notebook_tqdm\n"
     ]
    },
    {
     "name": "stdout",
     "output_type": "stream",
     "text": [
      "hello world\n"
     ]
    }
   ],
   "source": [
    "import spacy\n",
    "from spacy import displacy\n",
    "print(\"hello world\")"
   ]
  },
  {
   "cell_type": "code",
   "execution_count": 2,
   "metadata": {},
   "outputs": [],
   "source": [
    "text= '''\n",
    "Ludhiana: In a joint operation, the Centre’s Wildlife Crime Control Bureau and Ludhiana’s forest and wildlife department and Ludhiana police arrested a man for allegedly smuggling leopard skin in Tibba area here on Tuesday.The teams seized three leopard skins from his possession.Initial probe suggests that the accused, identified as Sanjeev Kumar of Prem Vihar, Tibba, was smuggling leopard skin from Jammu and Kashmir to Punjab.Ludhiana range officer (wildlife) Shaminder Singh said, “It was a tip-off of Wildlife Crime Control Bureau, following which a trap was laid by the local officials of wildlife department and police. We managed to nab the accused and also seized three leopard skins from his house, which he had packed properly and which were ready to be smuggled further.”Shaminder said as per information, the accused had been smuggling leopard skin for long in Punjab. He added an FIR had been registered against him at Tibba police station.The accused will be presented in court on Wednesday. The authorities are expected to request the court for his police custody, so they could get more information from him about the racket. Inspector Pardeep Kumar of WCCB also reached the city for the operation.\n",
    "'''\n",
    "\n",
    "text3 = \"TOI. None. Nagpur: In a joint raid, Kalmeshwar and Seminary Hills range forest officials rescued 60 birds including 22 rose-ringed parakeets , 30 love birds, and 8 pigeons from Motibagh slums in the city.The action was initiated by forest staff under assistant conservator of forests (ACF) PD Palwe after a tip-off from People for Animals (PFA) supporters Swapnil Bodhane and Ashish Korde from Nagpur and Wardha.Officials have arrested main accused Sheikh Abid Nasir Khan (26), a resident of Ansar Nagar slums. He was produced in the court on Sunday. The officials demanded five-day forest custody remand (FCR) but the court granted 2 days’ custody. 2 other accused managed to escape.The birds have been sheltered at Transit Treatment Centre (TTC) in Seminary Hills and will be released after court order. Rose-ringed parakeets are protected under Schedule IV of the Wildlife Protection Act (WPA), 1972, and trading them or keeping them as pets is a crime.According to PFA’s rescue in-charge Kaustubh Gawande, “The action is just a tip of the iceberg. A big racket capturing parakeets and selling them to a particular section of the society is active in the city. The birds and their chicks are captured from forest areas near the city and sold to this section. The birds seized from the accused on Sunday were captured from Dhapewada in Kalmeshwar range.”“For the past 2 months, we were keeping a watch on the movement of the accused and informed about the racket to forest officials who then deputed 2 teams simultaneously at Lakadganj and Motibagh. Shaikh is a habitual offender and was caught in 2017 and 2018 also. He was also convicted for a similar offence,” said Gawande.“Shaikh was nabbed from Lakadganj area by 1 team and another team of forest staff raided 3 houses in Motibagh slums near the railway line. Shaikh was linked to Motibagh from where 60 birds and over 40 empty cages were seized,” said ACF Palwe.Nagpur is a flourishing market for birds and these avians are clandestinely sold in weekly bazaars in Lakadganj, Mangalwari, and Cotton Market areas. A few years ago, frequent raids by forest department had curbed the trade but as the anti-poaching squad with the Nagpur circle has become defunct, there is a spurt in wildlife crime in the region.\"\n",
    "\n",
    "text4 = \"The Hindu. 2022-06-24 16:50:36+00:00. Forest officials have arrested 3 persons here for possession of 11 kg of ambergris or whale vomit.\\n\\nThe accused were identified as R. Rajaram (49), P. Sundarapandi (36) and A. Kavi (48).\\n\\nAccording to police, a team of sleuths of Organised Crime Investigation Unit raided a jewellery making unit at Maravar Chavadi under the South Gate police station limits on Thursday night and found them in possession of the ambergris.\\n\\nThe accused and the contraband were handed over to the District Forest official.\\n\\nUpon instruction from the District Forest Officer Guru Swamy Dabbala, Forest Range Officer S. Manikandan arrested the accused under the provisions of Wildlife Act 1972 and Biological Diversity Act, 2002.\\n\\nThe accused were sent to judicial custody.\"\n",
    "\n",
    "#text4_entities = [{\"id\":2340,\"label\":\"traffickerName\",\"start_offset\":169,\"end_offset\":179},{\"id\":2341,\"label\":\"traffickerName\",\"start_offset\":186,\"end_offset\":201},{\"id\":2342,\"label\":\"traffickerName\",\"start_offset\":211,\"end_offset\":218},{\"id\":2343,\"label\":\"traffickerBirthYear\",\"start_offset\":181,\"end_offset\":183},{\"id\":2344,\"label\":\"traffickerBirthYear\",\"start_offset\":203,\"end_offset\":205},{\"id\":2345,\"label\":\"traffickerBirthYear\",\"start_offset\":220,\"end_offset\":222}],\"relations\":[{\"id\":840,\"from_id\":2340,\"to_id\":2343,\"type\":\"trafficker-birthyear\"},{\"id\":841,\"from_id\":2341,\"to_id\":2344,\"type\":\"trafficker-birthyear\"},{\"id\":842,\"from_id\":2342,\"to_id\":2345,\"type\":\"trafficker-birthyear\"}]\n",
    "\n",
    "text5 = \"The Hindu. 2022-03-20 13:01:38+00:00. They were said to be part of a network trafficking in wildlife parts\\n\\nThey were said to be part of a network trafficking in wildlife parts\\n\\n3 persons, said to be part of a network involved in the trafficking of wildlife parts, were arrested with a pair of tusks at Tiruppur late on Saturday.\\n\\nV. Veerappan, 65, and P. Murugan, 45, of Velliangadu near Tiruppur, and M. Avinasiappan, 40, of Avinashi, were arrested in a special operation that the Forest Department carried out in co-ordination with the Wildlife Crime Control Bureau (WCCB), Chennai. A pair of tusks, cut into 4 pieces, was recovered from them.\\n\\nS. Ramasubramanian, Conservator of Forests and Field Director of the Anamalai Tiger Reserve (ATR), said the WCCB team had intelligence that some persons were attempting to sell tusks at Tiruppur. S.N. Thejasvi, Deputy Director of ATR (Tiruppur division), formed a team to trace them.\\n\\nThe team, headed by Tiruppur forest range officer S. Senthil Kumar, tried to lure the traffickers by posing as buyers. Though the trio initially asked the team to go to a place near Annur, they changed the location later.\\n\\nThe team cornered them at Velliangadu and arrested them. 2 two-wheelers, which the 3 men used to transport the tusks, were also seized. Veerappan, Murugan and Avinasiappan were produced before a magistrate and remanded in judicial custody.\\n\\nMr. Ramasubramanian said the pair of tusks appeared to have been extracted from an elephant a few years ago. Samples from the tusks would be collected for a DNA analysis. The results could be used for matching with suspected skeletal remains if they were to be found in future.\"\n",
    "\n",
    "text2='''\n",
    "Live pangolin rescued from clutches of two poachers\n",
    "The joint team members with the two accused and the pangolin.\n",
    "Staff Reporter :\n",
    "The joint team of Wildlife Crime Control Bureau, Special Task Force (STF) Jabalpur, Crime Branch Jabalpur and Forest Department, Patan, rescued a live pangolin from two accused who were out to sell the animal. Under the direction of Regional Deputy Director, WCCB, Abhijeet Rai Choudhary, Incharge Crime Branch Jabalpur, SP Siddharth Bahuguna, STF Jabalpur incharge, SP Neeraj Soni and Jabalpur Divisional Forest Officer and Anjana Sumitra Tirki, efforts are being made to put effective control over crime against wildlife.\n",
    "Under the same, an informer gave a clue on March 2, 2021 about a few suspicious persons who were trying to sell unknown material related to wildlife on a white Bolero (MP 18 C 5404) on Katangi-Belkhadu route. Soon after receiving information, the senior officers immediately constituted a joint team of WCCB, STF, Crime Branch and Forest Department. After strenuous efforts, the team noticed a white Bolero on Belkhadu-Nunsar route at a distance of 2 kms from Belkhadu. The vehicle was occupied by two persons who tried to escape after they were stopped by the team. The team cordoned the area and arrested both the accused identified as Anil Thakur and Kamlesh Thakur. The team also seized a sack from them. When the sack was opened, the team found a live Pangolin. Seizing the vehicle, the team took both the accused under custody and took them to Patan Range Office. Further action is underway under Wildlife Protection Act 1972.\n",
    "'''\n",
    "\n",
    "tt = \"The Pioneer. None. In a crackdown on wildlife trade, the Special Task Force (STF) of the Crime Branch rescued a live pangolin at Jakikia village under Baliguda block in Kandhamal district on Thursday. The STF arrested 2 wildlife smugglers in this connection. The duo was identified as Sibananda Mallick from Sudra area and Rashtra Bhoi from Barkhamar.\\n\\nOn the basis of reliable information, the STF and Baliguda Forest Department conducted a raid at Jakikia when the smugglers were striking a deal to sell the animal in the market. The accused were caught red-handed, said officials.The live animal, weighing around 11kg, and other incriminating materials were seized from the possession of the smugglers.Both the accused were handed over to the Baliguda Forest officials for necessary legal action.\\n\\nThe pangolin was handed over to the Baliguda DFO for safe custody.\\u201cThe accused are being interrogated and further investigation into the case is ongoing,\\u201d said a STF official.\\n\\nNotably, in 2020 the STF has seized as many as 20 leopard skins, 11 elephant tusks, 2 deer skins, 7 live pangolins and 15 kg pangolin scales in a special drive against the wildlife smugglers. As many as criminals smugglers have been arrested in this connection so far.\"\n",
    "\n",
    "ttt = \"TOI. None. NAGPUR: 5 days after the Mukutban tigress was found choked to death and her body parts removed, a joint team of police and forest department arrested 2 persons from Pandharwani village on Friday and seized a paw and nail from them.The four-year-old pregnant tigress was brutally killed in a cave in Mangurla and her 2 front paws were chopped. The incident came to light on April 25. As the crime was complicated, Yavatmal CCF SV Ramarao sought help from SP Dilip Patil Bhujbal.Even as the forest department registered offences under Wildlife Protection Act (WPA), 1972, the police played a key role in nabbing the accused. Bhujbal and Ramarao had visited the spot on April 28 along with other police officials.The SP constituted 4 teams. Police informers found links of the case to Pandharwani (Dubhati) village. According to Ramarao, the accused were nabbed after decoy customers were sent to them to buy nails and paws. The accused have been identified as father-son duo Ashok Letu Atram (20) and Letu Rama Atram (45), both Pandharwani.Bhujbal said, \\u201cIt was a complicated case as the tigress was killed somewhere on April 20 and there was evidence on the spot. Our officers used their experience to nab the accused. We have to seize 9 more nails and another paw. More accused are involved and teams are on the job to nab them,\\u201d said Ramarao.The SP said more details about the case will only be revealed during the interrogation of the accused who will be produced in the court on Saturday for forest custody.\""
   ]
  },
  {
   "cell_type": "code",
   "execution_count": 4,
   "metadata": {},
   "outputs": [
    {
     "data": {
      "text/html": [
       "<span class=\"tex2jax_ignore\"><div class=\"entities\" style=\"line-height: 2.5; direction: ltr\">The Hindu. 2022-06-24 16:50:36+00:00. Forest officials have arrested 3 persons here for possession of 11 kg of ambergris or whale vomit.</br></br>The accused were identified as \n",
       "<mark class=\"entity\" style=\"background: #ddd; padding: 0.45em 0.6em; margin: 0 0.25em; line-height: 1; border-radius: 0.35em;\">\n",
       "    R. Rajaram\n",
       "    <span style=\"font-size: 0.8em; font-weight: bold; line-height: 1; border-radius: 0.35em; vertical-align: middle; margin-left: 0.5rem\">traffickerName</span>\n",
       "</mark>\n",
       " (\n",
       "<mark class=\"entity\" style=\"background: #ddd; padding: 0.45em 0.6em; margin: 0 0.25em; line-height: 1; border-radius: 0.35em;\">\n",
       "    49\n",
       "    <span style=\"font-size: 0.8em; font-weight: bold; line-height: 1; border-radius: 0.35em; vertical-align: middle; margin-left: 0.5rem\">traffickerBirthYear</span>\n",
       "</mark>\n",
       "), \n",
       "<mark class=\"entity\" style=\"background: #ddd; padding: 0.45em 0.6em; margin: 0 0.25em; line-height: 1; border-radius: 0.35em;\">\n",
       "    P. Sundarapandi\n",
       "    <span style=\"font-size: 0.8em; font-weight: bold; line-height: 1; border-radius: 0.35em; vertical-align: middle; margin-left: 0.5rem\">traffickerName</span>\n",
       "</mark>\n",
       " (\n",
       "<mark class=\"entity\" style=\"background: #ddd; padding: 0.45em 0.6em; margin: 0 0.25em; line-height: 1; border-radius: 0.35em;\">\n",
       "    36\n",
       "    <span style=\"font-size: 0.8em; font-weight: bold; line-height: 1; border-radius: 0.35em; vertical-align: middle; margin-left: 0.5rem\">traffickerBirthYear</span>\n",
       "</mark>\n",
       ") and \n",
       "<mark class=\"entity\" style=\"background: #ddd; padding: 0.45em 0.6em; margin: 0 0.25em; line-height: 1; border-radius: 0.35em;\">\n",
       "    A. Kavi\n",
       "    <span style=\"font-size: 0.8em; font-weight: bold; line-height: 1; border-radius: 0.35em; vertical-align: middle; margin-left: 0.5rem\">traffickerName</span>\n",
       "</mark>\n",
       " (\n",
       "<mark class=\"entity\" style=\"background: #ddd; padding: 0.45em 0.6em; margin: 0 0.25em; line-height: 1; border-radius: 0.35em;\">\n",
       "    48\n",
       "    <span style=\"font-size: 0.8em; font-weight: bold; line-height: 1; border-radius: 0.35em; vertical-align: middle; margin-left: 0.5rem\">traffickerBirthYear</span>\n",
       "</mark>\n",
       ").</br></br>According to police, a team of sleuths of Organised Crime Investigation Unit raided a jewellery making unit at Maravar Chavadi under the South Gate police station limits on Thursday night and found them in possession of the ambergris.</br></br>The accused and the contraband were handed over to the District Forest official.</br></br>Upon instruction from the District Forest Officer Guru Swamy Dabbala, Forest Range Officer S. Manikandan arrested the accused under the provisions of Wildlife Act 1972 and \n",
       "<mark class=\"entity\" style=\"background: #ddd; padding: 0.45em 0.6em; margin: 0 0.25em; line-height: 1; border-radius: 0.35em;\">\n",
       "    Biological Diversity\n",
       "    <span style=\"font-size: 0.8em; font-weight: bold; line-height: 1; border-radius: 0.35em; vertical-align: middle; margin-left: 0.5rem\">traffickerName</span>\n",
       "</mark>\n",
       " Act, 2002.</br></br>The accused were sent to judicial custody.</div></span>"
      ],
      "text/plain": [
       "<IPython.core.display.HTML object>"
      ]
     },
     "metadata": {},
     "output_type": "display_data"
    }
   ],
   "source": [
    "nlp = spacy.load(\"/Users/geary/MQP_etc/ner_model/output/model-best\")\n",
    "doc = nlp(text4)\n",
    "\n",
    "displacy.render(doc, style='ent', jupyter=True, options={'distance': 150})\n"
   ]
  }
 ],
 "metadata": {
  "kernelspec": {
   "display_name": "Python 3.10.8 64-bit (microsoft store)",
   "language": "python",
   "name": "python3"
  },
  "language_info": {
   "codemirror_mode": {
    "name": "ipython",
    "version": 3
   },
   "file_extension": ".py",
   "mimetype": "text/x-python",
   "name": "python",
   "nbconvert_exporter": "python",
   "pygments_lexer": "ipython3",
   "version": "3.10.8"
  },
  "orig_nbformat": 4,
  "vscode": {
   "interpreter": {
    "hash": "035ec46ebd7f984fbb02fe190479a8ab58b28cab59321ca4b6a6d4bd9b8e7328"
   }
  }
 },
 "nbformat": 4,
 "nbformat_minor": 2
}
